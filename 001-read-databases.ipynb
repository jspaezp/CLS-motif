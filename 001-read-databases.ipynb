{
 "cells": [
  {
   "cell_type": "code",
   "execution_count": 2,
   "metadata": {
    "autoscroll": "json-false",
    "collapsed": false,
    "ein.tags": [
     "worksheet-0"
    ],
    "slideshow": {
     "slide_type": "-"
    }
   },
   "outputs": [],
   "source": [
    "#!/usr/bin/python\n",
    "import pandas as pd"
   ]
  },
  {
   "cell_type": "code",
   "execution_count": 6,
   "metadata": {
    "autoscroll": "json-false",
    "collapsed": false,
    "ein.tags": [
     "worksheet-0"
    ],
    "slideshow": {
     "slide_type": "-"
    }
   },
   "outputs": [
    {
     "data": {
      "text/plain": [
       "   No. Kinase Group Family Subfamily Gene_Symbol  UniProt_ID  Entrez_ID  \\\n",
       "0    1   AKT1   AGC    Akt                 AKT1   AKT1_HUMAN      207.0   \n",
       "1    2   AKT2   AGC    Akt                 AKT2   AKT2_HUMAN      208.0   \n",
       "2    3   AKT3   AGC    Akt                 AKT3   AKT3_HUMAN    10000.0   \n",
       "3    4   CRIK   AGC   DMPK     CRIK         CIT   CTRO_HUMAN    11113.0   \n",
       "4    5  DMPK1   AGC   DMPK      GEK        DMPK   DMPK_HUMAN     1760.0   \n",
       "\n",
       "                                         Description  \n",
       "0     v-akt murine thymoma viral oncogene homolog 1   \n",
       "1     v-akt murine thymoma viral oncogene homolog 2   \n",
       "2  v-akt murine thymoma viral oncogene homolog 3 ...  \n",
       "3  citron (rho-interacting, serine/threonine kina...  \n",
       "4               dystrophia myotonica-protein kinase   "
      ]
     },
     "execution_count": 6,
     "metadata": {},
     "output_type": "execute_result"
    }
   ],
   "source": [
    "pd.read_csv(\"./regPhos/RegPhos_kinase_human.txt\", sep = \"\\t\").head()"
   ]
  },
  {
   "cell_type": "code",
   "execution_count": 7,
   "metadata": {
    "autoscroll": "json-false",
    "collapsed": false,
    "ein.tags": [
     "worksheet-0"
    ],
    "slideshow": {
     "slide_type": "-"
    }
   },
   "outputs": [
    {
     "name": "stdout",
     "output_type": "stream",
     "text": [
      "Hello World\n"
     ]
    }
   ],
   "source": [
    "print(\"Hello World\")"
   ]
  }
 ],
 "metadata": {},
 "nbformat": 4,
 "nbformat_minor": 1
}
